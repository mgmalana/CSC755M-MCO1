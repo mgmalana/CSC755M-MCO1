{
 "cells": [
  {
   "cell_type": "markdown",
   "metadata": {},
   "source": [
    "## These testing module contains perversed/contrived and random test data. More random test data is included in the main code. The results of the other random test data are included in MCO2 paper."
   ]
  },
  {
   "cell_type": "markdown",
   "metadata": {},
   "source": [
    "# Search Algorithms"
   ]
  },
  {
   "cell_type": "code",
   "execution_count": 35,
   "metadata": {
    "collapsed": true
   },
   "outputs": [],
   "source": [
    "count = 0\n",
    "def linearSearch(array, item):\n",
    "    global count\n",
    "    count = 0\n",
    "    for i,v in enumerate(array):\n",
    "        count += 1\n",
    "        if(v == item):\n",
    "            return i\n",
    "    \n",
    "    return -1\n",
    "\n",
    "def binarySearch(array, item):\n",
    "    global count\n",
    "\n",
    "    start = 0\n",
    "    end = len(array) - 1\n",
    "    count = 0\n",
    "\n",
    "\n",
    "    while start <= end:\n",
    "        count += 1\n",
    "        mid = start + (end - start) // 2\n",
    "        \n",
    "        if item > array[mid]:\n",
    "            start = mid + 1\n",
    "        elif item < array[mid]:\n",
    "            end = mid - 1\n",
    "        else:\n",
    "            return mid\n",
    "        \n",
    "    return -1\n",
    "\n",
    "def interpolationSearch(array, item):\n",
    "    global count\n",
    "    \n",
    "    start = 0\n",
    "    end = len(array) - 1\n",
    "    count = 0\n",
    "\n",
    "    while array[start] <= item and array[end] >= item:\n",
    "        count += 1\n",
    "        mid = start + ((item - array[start]) * (end - start) // (array[end] - array[start]))\n",
    "        if item > array[mid]:\n",
    "            start = mid + 1\n",
    "        elif item < array[mid]:\n",
    "            end = mid - 1\n",
    "        else:\n",
    "            return mid \n",
    "    \n",
    "    if item == array[start]:\n",
    "        return start\n",
    "    return -1"
   ]
  },
  {
   "cell_type": "markdown",
   "metadata": {},
   "source": [
    "# Sorting Algorithms"
   ]
  },
  {
   "cell_type": "code",
   "execution_count": 36,
   "metadata": {
    "collapsed": true
   },
   "outputs": [],
   "source": [
    "compareCount = 0\n",
    "swapCount = 0\n",
    "\n",
    "def insertionSort(array):\n",
    "    resetCounters()\n",
    "\n",
    "    for i in range(1, len(array)):\n",
    "        currVal = array[i]\n",
    "        pos = i\n",
    "        \n",
    "        while pos > 0 and array[pos-1] > currVal:\n",
    "            incrementCompareCount()\n",
    "            incrementSwapCount()\n",
    "            \n",
    "            array[pos] = array[pos - 1] #moves the index before forward to the list\n",
    "            pos = pos - 1\n",
    "\n",
    "        array[pos] = currVal\n",
    "\n",
    "def bubbleSort(array):\n",
    "    resetCounters()\n",
    "    \n",
    "    for i in range(len(array) - 1 ,0 , -1):\n",
    "        for j in (range(i)):\n",
    "            \n",
    "            incrementCompareCount()\n",
    "            if(array[j] > array[j + 1]):\n",
    "                swap(array, j, j + 1)\n",
    "\n",
    "def selectionSort(array):\n",
    "    resetCounters()\n",
    "    \n",
    "    arrayLength = len(array)\n",
    "    \n",
    "    for i in range(arrayLength - 1):\n",
    "        min = i\n",
    "        \n",
    "        for j in range(i, arrayLength):\n",
    "            incrementCompareCount()\n",
    "            \n",
    "            if(array[min] > array[j]):\n",
    "                min = j\n",
    "        if(i != min):\n",
    "            swap(array, i, min)\n",
    "\n",
    "def shellSort(array):\n",
    "    resetCounters()\n",
    "    \n",
    "    arrayLength = len(array)\n",
    "    \n",
    "    k = arrayLength // 2\n",
    "    \n",
    "    while k != 0:\n",
    "        i = 0\n",
    "        j = i + k\n",
    "        \n",
    "        while(j < arrayLength): #compare gap forward\n",
    "            incrementCompareCount()\n",
    "            if array[i] > array[j]:\n",
    "                swap(array, i, j)\n",
    "            \n",
    "                tempI = i - k      \n",
    "                j = i\n",
    "                while(tempI > -1): #compare gap backwards\n",
    "                    incrementCompareCount()\n",
    "                    \n",
    "                    if(array[tempI] > array[j]):\n",
    "                        swap(array, tempI, j)\n",
    "                    j = tempI\n",
    "                    tempI = tempI - k\n",
    "                \n",
    "            i += 1\n",
    "            j = i + k\n",
    "        k = k // 2\n",
    "\n",
    "def quickSort(array):\n",
    "    resetCounters()\n",
    "    \n",
    "    def qsPartition(array, start, end): #end is inclusive\n",
    "        \n",
    "        pivot = array[start + (end - start) // 2]\n",
    "        i =  start\n",
    "        j = end\n",
    "        \n",
    "        while i <= j:\n",
    "            while array[i] < pivot:\n",
    "                incrementCompareCount()\n",
    "                i += 1\n",
    "                \n",
    "            while array[j] > pivot:\n",
    "                incrementCompareCount()\n",
    "                j -= 1\n",
    "                \n",
    "            if i <= j:\n",
    "                if i < j:\n",
    "                    swap(array, i, j)\n",
    "                i += 1\n",
    "                j -= 1\n",
    "        \n",
    "        if start < j:\n",
    "            qsPartition(array, start, j)\n",
    "        if end > i:\n",
    "            qsPartition(array, i, end)\n",
    "        \n",
    "    qsPartition(array, 0, len(array) - 1)    \n",
    "\n",
    "def mergeSort(array):\n",
    "    resetCounters()\n",
    "    \n",
    "    if len(array)>1:\n",
    "        mid = len(array) //2\n",
    "        leftPart = array[:mid]\n",
    "        rightPart = array[mid:]\n",
    "\n",
    "        #divides\n",
    "        mergeSort(leftPart)\n",
    "        mergeSort(rightPart)\n",
    "\n",
    "        i=0\n",
    "        j=0\n",
    "        k=0\n",
    "        \n",
    "        #merging\n",
    "        while i < len(leftPart) and j < len(rightPart): #compares left and right\n",
    "            incrementCompareCount()\n",
    "            incrementSwapCount()\n",
    "            \n",
    "            if leftPart[i] < rightPart[j]:\n",
    "                array[k]=leftPart[i]\n",
    "                i=i+1\n",
    "            else:\n",
    "                array[k]=rightPart[j]\n",
    "                j=j+1\n",
    "            k=k+1\n",
    "\n",
    "        while i < len(leftPart):\n",
    "            incrementSwapCount()\n",
    "            array[k]=leftPart[i]\n",
    "            i=i+1\n",
    "            k=k+1\n",
    "\n",
    "        while j < len(rightPart):\n",
    "            incrementSwapCount()\n",
    "            array[k]=rightPart[j]\n",
    "            j=j+1\n",
    "            k=k+1\n",
    "            \n",
    "def heapSort(array):\n",
    "    resetCounters()\n",
    "    \n",
    "    lastIndex = len(array) - 1\n",
    "    \n",
    "    def pushDown(start, end):\n",
    "        max = 2 * start + 1 #default max is left\n",
    "        \n",
    "        while max <= end:\n",
    "            incrementCompareCount()\n",
    "            # checks if right or left child is bigger. if true right is larger\n",
    "            if ( max < end ) and ( array[max] < array[max + 1] ):\n",
    "                max += 1\n",
    "                \n",
    "            # check if max child is larger than parent\n",
    "            if array[max] > array[start]:\n",
    "                #swaps the parent and the max child\n",
    "                swap( array, max, start)\n",
    "                \n",
    "                #push down the parent and check again\n",
    "                start = max;\n",
    "                max = 2 * start + 1\n",
    "            else:\n",
    "                break\n",
    "    \n",
    "    #make the array a heap\n",
    "    for i in range((lastIndex - 1) // 2 , -1, -1): #-1 because 0 is included\n",
    "        pushDown(i, lastIndex)\n",
    "        \n",
    "    #sort the heap.\n",
    "    for i in range(lastIndex, 0, -1):\n",
    "        #swap is skipped if top is equal to the compared index\n",
    "        if(array[0] > array[i]): \n",
    "            swap(array, 0, i)\n",
    "            pushDown(0, i - 1)\n",
    "            \n",
    "def swap(array, indexA, indexB):\n",
    "    global swapCount\n",
    "    array[indexA], array[indexB] = array[indexB], array[indexA]\n",
    "    swapCount += 1\n",
    "\n",
    "def incrementCompareCount():\n",
    "    global compareCount\n",
    "    compareCount += 1\n",
    "def incrementSwapCount():\n",
    "    global swapCount\n",
    "    swapCount += 1   \n",
    "\n",
    "def resetCounters():\n",
    "    global compareCount, swapCount\n",
    "    compareCount = 0\n",
    "    swapCount = 0"
   ]
  },
  {
   "cell_type": "markdown",
   "metadata": {},
   "source": [
    "# Testing"
   ]
  },
  {
   "cell_type": "markdown",
   "metadata": {},
   "source": [
    "## Search\n",
    "### Prints the index of the searched item, and the comparison frequency count per search algorithm"
   ]
  },
  {
   "cell_type": "code",
   "execution_count": 37,
   "metadata": {
    "collapsed": false
   },
   "outputs": [],
   "source": [
    "import random\n",
    "\n",
    "searchAlgos = [linearSearch, binarySearch, interpolationSearch]\n",
    "\n",
    "def printResults(testingList, searchItem, isPrintList):\n",
    "    global count\n",
    "    print('Searched value: ' + str(searchItem))\n",
    "    if isPrintList:\n",
    "        print('List: ' + str(testingList) + '\\n')\n",
    "    for search in searchAlgos:\n",
    "        print(search.__name__ + ': ' + str(search(testingList, searchItem)) + ', FC: ' +  str(count))"
   ]
  },
  {
   "cell_type": "markdown",
   "metadata": {},
   "source": [
    "### Small input size, list contains values"
   ]
  },
  {
   "cell_type": "code",
   "execution_count": 38,
   "metadata": {
    "collapsed": false
   },
   "outputs": [
    {
     "name": "stdout",
     "output_type": "stream",
     "text": [
      "Searched value: 0\n",
      "List: [0, 1, 2, 3, 4]\n",
      "\n",
      "linearSearch: 0, FC: 1\n",
      "binarySearch: 0, FC: 2\n",
      "interpolationSearch: 0, FC: 1\n"
     ]
    }
   ],
   "source": [
    "testingList = [0, 1, 2, 3 ,4]\n",
    "searchItem = 0\n",
    "testingList.sort() # list must be sorted\n",
    "\n",
    "printResults(testingList, searchItem, True)\n"
   ]
  },
  {
   "cell_type": "markdown",
   "metadata": {},
   "source": [
    "### Small input size, list does not contain value"
   ]
  },
  {
   "cell_type": "code",
   "execution_count": 39,
   "metadata": {
    "collapsed": false
   },
   "outputs": [
    {
     "name": "stdout",
     "output_type": "stream",
     "text": [
      "Searched value: 2\n",
      "List: [0, 1, 3, 4, 5]\n",
      "\n",
      "linearSearch: -1, FC: 5\n",
      "binarySearch: -1, FC: 3\n",
      "interpolationSearch: -1, FC: 1\n"
     ]
    }
   ],
   "source": [
    "testingList = [0, 1, 3 ,4, 5]\n",
    "searchItem = 2\n",
    "testingList.sort() # list must be sorted\n",
    "\n",
    "printResults(testingList, searchItem, True)\n"
   ]
  },
  {
   "cell_type": "markdown",
   "metadata": {},
   "source": [
    "### Big input size, list contains value, uniform values"
   ]
  },
  {
   "cell_type": "code",
   "execution_count": 40,
   "metadata": {
    "collapsed": false,
    "scrolled": false
   },
   "outputs": [
    {
     "name": "stdout",
     "output_type": "stream",
     "text": [
      "Searched value: 5000\n",
      "linearSearch: 5000, FC: 5001\n",
      "binarySearch: 5000, FC: 13\n",
      "interpolationSearch: 5000, FC: 1\n"
     ]
    }
   ],
   "source": [
    "testingList = []\n",
    "for i in range(0, 10000):\n",
    "    testingList.append(i)\n",
    "\n",
    "searchItem = 5000\n",
    "testingList.sort() # list must be sorted\n",
    "\n",
    "printResults(testingList, searchItem, False)\n"
   ]
  },
  {
   "cell_type": "markdown",
   "metadata": {},
   "source": [
    "### Many duplicate values"
   ]
  },
  {
   "cell_type": "code",
   "execution_count": 41,
   "metadata": {
    "collapsed": false
   },
   "outputs": [
    {
     "name": "stdout",
     "output_type": "stream",
     "text": [
      "Searched value: 0\n",
      "List: [0, 0, 0, 0, 0, 1, 2, 3, 4, 4, 4, 4, 4, 5, 5, 5]\n",
      "\n",
      "linearSearch: 0, FC: 1\n",
      "binarySearch: 3, FC: 2\n",
      "interpolationSearch: 0, FC: 1\n"
     ]
    }
   ],
   "source": [
    "testingList = [0, 0, 0, 0 , 0, 1, 2, 4, 4, 4, 4, 5, 5, 5, 3 ,4]\n",
    "searchItem = 0\n",
    "testingList.sort() # list must be sorted\n",
    "\n",
    "printResults(testingList, searchItem, True)\n"
   ]
  },
  {
   "cell_type": "markdown",
   "metadata": {},
   "source": [
    "### Many duplicate values 2.0"
   ]
  },
  {
   "cell_type": "code",
   "execution_count": 42,
   "metadata": {
    "collapsed": false
   },
   "outputs": [
    {
     "name": "stdout",
     "output_type": "stream",
     "text": [
      "Searched value: 1\n",
      "List: [0, 0, 0, 0, 1, 2, 2, 2, 2, 2, 2, 2, 2, 2, 2, 2, 2, 2, 2, 2, 2, 2, 2, 2, 2]\n",
      "\n",
      "linearSearch: 4, FC: 5\n",
      "binarySearch: 4, FC: 5\n",
      "interpolationSearch: 4, FC: 3\n"
     ]
    }
   ],
   "source": [
    "testingList = [0, 0, 0, 0, 1, 2, 2, 2, 2, 2, 2, 2, 2, 2, 2, 2, 2, 2, 2, 2, 2, 2, 2, 2, 2,]\n",
    "searchItem = 1\n",
    "testingList.sort() # list must be sorted\n",
    "\n",
    "printResults(testingList, searchItem, True)\n"
   ]
  },
  {
   "cell_type": "markdown",
   "metadata": {},
   "source": [
    "### Many duplicate values, searched value is at the end of the list"
   ]
  },
  {
   "cell_type": "code",
   "execution_count": 43,
   "metadata": {
    "collapsed": false
   },
   "outputs": [
    {
     "name": "stdout",
     "output_type": "stream",
     "text": [
      "Searched value: 5\n",
      "List: [0, 0, 0, 0, 0, 1, 2, 3, 4, 4, 4, 4, 4, 5, 5, 5]\n",
      "\n",
      "linearSearch: 13, FC: 14\n",
      "binarySearch: 13, FC: 3\n",
      "interpolationSearch: 15, FC: 1\n"
     ]
    }
   ],
   "source": [
    "testingList = [0, 0, 0, 0 , 0, 1, 2, 4, 4, 4, 4, 5, 5, 5, 3 ,4]\n",
    "searchItem = 5\n",
    "testingList.sort() # list must be sorted\n",
    "\n",
    "printResults(testingList, searchItem, True)\n",
    "\n",
    "#index results found for interpolation search is different. but it is still the same value as the searched item"
   ]
  },
  {
   "cell_type": "markdown",
   "metadata": {},
   "source": [
    "### Values are all the same in the list, but the searched element is not in the list"
   ]
  },
  {
   "cell_type": "code",
   "execution_count": 44,
   "metadata": {
    "collapsed": false
   },
   "outputs": [
    {
     "name": "stdout",
     "output_type": "stream",
     "text": [
      "Searched value: 2\n",
      "List: [0, 0, 0, 0, 0, 0, 0, 0, 0, 0, 0, 0, 0, 0, 0]\n",
      "\n",
      "linearSearch: -1, FC: 15\n",
      "binarySearch: -1, FC: 4\n",
      "interpolationSearch: -1, FC: 0\n"
     ]
    }
   ],
   "source": [
    "testingList = [0, 0, 0, 0 , 0, 0, 0, 0, 0, 0, 0, 0, 0, 0, 0]\n",
    "searchItem = 2\n",
    "testingList.sort() # list must be sorted\n",
    "\n",
    "printResults(testingList, searchItem, True)"
   ]
  },
  {
   "cell_type": "markdown",
   "metadata": {},
   "source": [
    "### Values are all the same, except 1"
   ]
  },
  {
   "cell_type": "code",
   "execution_count": 45,
   "metadata": {
    "collapsed": false
   },
   "outputs": [
    {
     "name": "stdout",
     "output_type": "stream",
     "text": [
      "Searched value: 1\n",
      "List: [0, 0, 0, 0, 0, 0, 0, 0, 0, 0, 0, 0, 0, 0, 0, 1]\n",
      "\n",
      "linearSearch: 15, FC: 16\n",
      "binarySearch: 15, FC: 5\n",
      "interpolationSearch: 15, FC: 1\n"
     ]
    }
   ],
   "source": [
    "testingList = [0, 0, 0, 0 , 0, 0, 0, 0, 0, 0, 0, 0, 0, 0, 0, 1]\n",
    "searchItem = 1\n",
    "testingList.sort() # list must be sorted\n",
    "\n",
    "printResults(testingList, searchItem, True)"
   ]
  },
  {
   "cell_type": "markdown",
   "metadata": {},
   "source": [
    "### Values are increased exponentially"
   ]
  },
  {
   "cell_type": "code",
   "execution_count": 46,
   "metadata": {
    "collapsed": false
   },
   "outputs": [
    {
     "name": "stdout",
     "output_type": "stream",
     "text": [
      "Searched value: 256\n",
      "List: [2, 4, 8, 16, 32, 64, 128, 256, 512, 1024, 2048, 4096]\n",
      "\n",
      "linearSearch: 7, FC: 8\n",
      "binarySearch: 7, FC: 4\n",
      "interpolationSearch: 7, FC: 8\n"
     ]
    }
   ],
   "source": [
    "testingList = [2, 4, 8, 16, 32, 64, 128, 256, 512, 1024, 2048, 4096]\n",
    "searchItem = 256\n",
    "testingList.sort() # list must be sorted\n",
    "\n",
    "printResults(testingList, searchItem, True)"
   ]
  },
  {
   "cell_type": "markdown",
   "metadata": {},
   "source": [
    "### Values are increased exponentially, searched value not in the list"
   ]
  },
  {
   "cell_type": "code",
   "execution_count": 47,
   "metadata": {
    "collapsed": false
   },
   "outputs": [
    {
     "name": "stdout",
     "output_type": "stream",
     "text": [
      "Searched value: 200\n",
      "List: [2, 4, 8, 16, 32, 64, 128, 256, 512, 1024, 2048, 4096]\n",
      "\n",
      "linearSearch: -1, FC: 12\n",
      "binarySearch: -1, FC: 4\n",
      "interpolationSearch: -1, FC: 7\n"
     ]
    }
   ],
   "source": [
    "testingList = [2, 4, 8, 16, 32, 64, 128, 256, 512, 1024, 2048, 4096]\n",
    "searchItem = 200\n",
    "testingList.sort() # list must be sorted\n",
    "\n",
    "printResults(testingList, searchItem, True)"
   ]
  },
  {
   "cell_type": "markdown",
   "metadata": {},
   "source": [
    "### Values are powered by itself"
   ]
  },
  {
   "cell_type": "code",
   "execution_count": 48,
   "metadata": {
    "collapsed": false
   },
   "outputs": [
    {
     "name": "stdout",
     "output_type": "stream",
     "text": [
      "Searched value: 65536\n",
      "List: [2, 4, 16, 256, 65536, 4294967296]\n",
      "\n",
      "linearSearch: 4, FC: 5\n",
      "binarySearch: 4, FC: 2\n",
      "interpolationSearch: 4, FC: 5\n"
     ]
    }
   ],
   "source": [
    "testingList = [2, 4, 16, 256, 65536, 4294967296]\n",
    "searchItem = 65536\n",
    "testingList.sort() # list must be sorted\n",
    "\n",
    "printResults(testingList, searchItem, True)"
   ]
  },
  {
   "cell_type": "markdown",
   "metadata": {},
   "source": [
    "### Values are powered by itself, searched value not included"
   ]
  },
  {
   "cell_type": "code",
   "execution_count": 49,
   "metadata": {
    "collapsed": false
   },
   "outputs": [
    {
     "name": "stdout",
     "output_type": "stream",
     "text": [
      "Searched value: 65536\n",
      "List: [2, 4, 16, 256, 65536, 4294967296]\n",
      "\n",
      "linearSearch: 4, FC: 5\n",
      "binarySearch: 4, FC: 2\n",
      "interpolationSearch: 4, FC: 5\n"
     ]
    }
   ],
   "source": [
    "testingList = [2, 4, 16, 256, 65536, 4294967296]\n",
    "searchItem = 65536\n",
    "testingList.sort() # list must be sorted\n",
    "\n",
    "printResults(testingList, searchItem, True)"
   ]
  },
  {
   "cell_type": "markdown",
   "metadata": {},
   "source": [
    "### Small values with 1 big value"
   ]
  },
  {
   "cell_type": "code",
   "execution_count": 50,
   "metadata": {
    "collapsed": false
   },
   "outputs": [
    {
     "name": "stdout",
     "output_type": "stream",
     "text": [
      "Searched value: 6\n",
      "List: [1, 2, 3, 4, 5, 6, 7, 8, 9, 10, 10000000]\n",
      "\n",
      "linearSearch: 5, FC: 6\n",
      "binarySearch: 5, FC: 1\n",
      "interpolationSearch: 5, FC: 6\n"
     ]
    }
   ],
   "source": [
    "testingList = [1, 2, 3, 4, 5, 6, 7, 8, 9, 10, 10000000]\n",
    "searchItem = 6\n",
    "testingList.sort() # list must be sorted\n",
    "\n",
    "printResults(testingList, searchItem, True)"
   ]
  },
  {
   "cell_type": "markdown",
   "metadata": {},
   "source": [
    "### Big random data"
   ]
  },
  {
   "cell_type": "code",
   "execution_count": 69,
   "metadata": {
    "collapsed": false
   },
   "outputs": [
    {
     "name": "stdout",
     "output_type": "stream",
     "text": [
      "Searched value: 7965\n",
      "linearSearch: 4043, FC: 4044\n",
      "binarySearch: 4043, FC: 17\n",
      "interpolationSearch: 4043, FC: 5\n"
     ]
    }
   ],
   "source": [
    "testingList = random.sample(range(0, 100000 * 2), 100000)\n",
    "searchItem = random.randint(0, 100000)\n",
    "\n",
    "testingList.sort() # list must be sorted\n",
    "printResults(testingList, searchItem, False)"
   ]
  },
  {
   "cell_type": "markdown",
   "metadata": {},
   "source": [
    "### Big random data, value not included"
   ]
  },
  {
   "cell_type": "code",
   "execution_count": 52,
   "metadata": {
    "collapsed": false
   },
   "outputs": [
    {
     "name": "stdout",
     "output_type": "stream",
     "text": [
      "Searched value: 57648\n",
      "linearSearch: -1, FC: 100000\n",
      "binarySearch: -1, FC: 17\n",
      "interpolationSearch: -1, FC: 3\n"
     ]
    }
   ],
   "source": [
    "testingList = random.sample(range(0, 100000 * 2), 100000)\n",
    "searchItem = random.randint(0, 100000)\n",
    "\n",
    "testingList.sort() # list must be sorted\n",
    "printResults(testingList, searchItem, False)"
   ]
  },
  {
   "cell_type": "markdown",
   "metadata": {},
   "source": [
    "## Sort\n",
    "### Prints whether the final array is sorted, and the comparison and the swap frequency count"
   ]
  },
  {
   "cell_type": "code",
   "execution_count": 53,
   "metadata": {
    "collapsed": false
   },
   "outputs": [],
   "source": [
    "import random\n",
    "\n",
    "sortingAlgos = [insertionSort, bubbleSort, selectionSort, shellSort, quickSort, mergeSort, heapSort]\n",
    "\n",
    "def printSortResults(testingList, isPrintList):\n",
    "    global count\n",
    "    \n",
    "    sortedArray = (testingList[:])\n",
    "    sortedArray.sort()\n",
    "\n",
    "    if isPrintList:\n",
    "        print('List: ' + str(testingList))\n",
    "        print('Sorted List: ' + str(sortedArray) + '\\n')\n",
    "    for sort in sortingAlgos:\n",
    "        tempArray = testingList[:]\n",
    "        sort(tempArray)\n",
    "        print(sort.__name__ + ':\\t ' + str(sortedArray == tempArray) + ', Compare FC: ' +  str(compareCount) + ',\\t Swap FC: ' + str(swapCount))"
   ]
  },
  {
   "cell_type": "markdown",
   "metadata": {},
   "source": [
    "### Sorted List"
   ]
  },
  {
   "cell_type": "code",
   "execution_count": 54,
   "metadata": {
    "collapsed": false
   },
   "outputs": [
    {
     "name": "stdout",
     "output_type": "stream",
     "text": [
      "List: [1, 2, 3, 4, 5, 6, 7, 8, 9, 10]\n",
      "Sorted List: [1, 2, 3, 4, 5, 6, 7, 8, 9, 10]\n",
      "\n",
      "insertionSort:\t True, Compare FC: 0,\t Swap FC: 0\n",
      "bubbleSort:\t True, Compare FC: 45,\t Swap FC: 0\n",
      "selectionSort:\t True, Compare FC: 54,\t Swap FC: 0\n",
      "shellSort:\t True, Compare FC: 22,\t Swap FC: 0\n",
      "quickSort:\t True, Compare FC: 19,\t Swap FC: 0\n",
      "mergeSort:\t True, Compare FC: 9,\t Swap FC: 20\n",
      "heapSort:\t True, Compare FC: 23,\t Swap FC: 30\n"
     ]
    }
   ],
   "source": [
    "testingList = [1,2,3,4,5,6,7,8,9,10]\n",
    "\n",
    "printSortResults(testingList, True)#"
   ]
  },
  {
   "cell_type": "markdown",
   "metadata": {},
   "source": [
    "### Reverse sorted List"
   ]
  },
  {
   "cell_type": "code",
   "execution_count": 55,
   "metadata": {
    "collapsed": false
   },
   "outputs": [
    {
     "name": "stdout",
     "output_type": "stream",
     "text": [
      "List: [10, 9, 8, 7, 6, 5, 4, 3, 2, 1]\n",
      "Sorted List: [1, 2, 3, 4, 5, 6, 7, 8, 9, 10]\n",
      "\n",
      "insertionSort:\t True, Compare FC: 45,\t Swap FC: 45\n",
      "bubbleSort:\t True, Compare FC: 45,\t Swap FC: 45\n",
      "selectionSort:\t True, Compare FC: 54,\t Swap FC: 5\n",
      "shellSort:\t True, Compare FC: 31,\t Swap FC: 13\n",
      "quickSort:\t True, Compare FC: 12,\t Swap FC: 5\n",
      "mergeSort:\t True, Compare FC: 11,\t Swap FC: 20\n",
      "heapSort:\t True, Compare FC: 19,\t Swap FC: 21\n"
     ]
    }
   ],
   "source": [
    "testingList = [1,2,3,4,5,6,7,8,9,10]\n",
    "testingList.reverse()\n",
    "printSortResults(testingList, True)"
   ]
  },
  {
   "cell_type": "markdown",
   "metadata": {},
   "source": [
    "### Many duplicate values"
   ]
  },
  {
   "cell_type": "code",
   "execution_count": 56,
   "metadata": {
    "collapsed": false
   },
   "outputs": [
    {
     "name": "stdout",
     "output_type": "stream",
     "text": [
      "List: [1, 1, 0, 2, 2, 2, 1, 1, 1, 2, 2, 2, 2, 1, 1, 1]\n",
      "Sorted List: [0, 1, 1, 1, 1, 1, 1, 1, 1, 2, 2, 2, 2, 2, 2, 2]\n",
      "\n",
      "insertionSort:\t True, Compare FC: 32,\t Swap FC: 32\n",
      "bubbleSort:\t True, Compare FC: 120,\t Swap FC: 32\n",
      "selectionSort:\t True, Compare FC: 135,\t Swap FC: 7\n",
      "shellSort:\t True, Compare FC: 58,\t Swap FC: 8\n",
      "quickSort:\t True, Compare FC: 13,\t Swap FC: 20\n",
      "mergeSort:\t True, Compare FC: 21,\t Swap FC: 30\n",
      "heapSort:\t True, Compare FC: 28,\t Swap FC: 27\n"
     ]
    }
   ],
   "source": [
    "testingList = [1,1,1,2,2,2,2,1,1,1,2,2,2,0, 1, 1,]\n",
    "testingList.reverse()\n",
    "printSortResults(testingList, True)"
   ]
  },
  {
   "cell_type": "markdown",
   "metadata": {},
   "source": [
    "### List contains elements with the same values"
   ]
  },
  {
   "cell_type": "code",
   "execution_count": 57,
   "metadata": {
    "collapsed": false
   },
   "outputs": [
    {
     "name": "stdout",
     "output_type": "stream",
     "text": [
      "List: [1, 1, 1, 1, 1, 1, 1, 1, 1, 1, 1, 1, 1, 1, 1, 1]\n",
      "Sorted List: [1, 1, 1, 1, 1, 1, 1, 1, 1, 1, 1, 1, 1, 1, 1, 1]\n",
      "\n",
      "insertionSort:\t True, Compare FC: 0,\t Swap FC: 0\n",
      "bubbleSort:\t True, Compare FC: 120,\t Swap FC: 0\n",
      "selectionSort:\t True, Compare FC: 135,\t Swap FC: 0\n",
      "shellSort:\t True, Compare FC: 49,\t Swap FC: 0\n",
      "quickSort:\t True, Compare FC: 0,\t Swap FC: 32\n",
      "mergeSort:\t True, Compare FC: 15,\t Swap FC: 30\n",
      "heapSort:\t True, Compare FC: 8,\t Swap FC: 0\n"
     ]
    }
   ],
   "source": [
    "testingList = [1,1,1,1,1,1,1,1,1,1,1,1,1,1,1,1]\n",
    "testingList.reverse()\n",
    "printSortResults(testingList, True)\n",
    "\n",
    "#Some of the frequency counts are 0 because the counter is inside the loop."
   ]
  },
  {
   "cell_type": "markdown",
   "metadata": {},
   "source": [
    "### List is alternately sorted"
   ]
  },
  {
   "cell_type": "code",
   "execution_count": 58,
   "metadata": {
    "collapsed": false
   },
   "outputs": [
    {
     "name": "stdout",
     "output_type": "stream",
     "text": [
      "List: [1, 10, 2, 9, 4, 8, 5, 7, 6]\n",
      "Sorted List: [1, 2, 4, 5, 6, 7, 8, 9, 10]\n",
      "\n",
      "insertionSort:\t True, Compare FC: 16,\t Swap FC: 16\n",
      "bubbleSort:\t True, Compare FC: 36,\t Swap FC: 16\n",
      "selectionSort:\t True, Compare FC: 44,\t Swap FC: 6\n",
      "shellSort:\t True, Compare FC: 38,\t Swap FC: 14\n",
      "quickSort:\t True, Compare FC: 12,\t Swap FC: 8\n",
      "mergeSort:\t True, Compare FC: 13,\t Swap FC: 19\n",
      "heapSort:\t True, Compare FC: 18,\t Swap FC: 22\n"
     ]
    }
   ],
   "source": [
    "testingList = [1, 10, 2, 9, 4, 8, 5, 7, 6]\n",
    "\n",
    "printSortResults(testingList, True)\n",
    "\n",
    "#Some of the frequency counts are 0 because the counter is inside the loop."
   ]
  },
  {
   "cell_type": "markdown",
   "metadata": {},
   "source": [
    "### List has a low value in between"
   ]
  },
  {
   "cell_type": "code",
   "execution_count": 59,
   "metadata": {
    "collapsed": false
   },
   "outputs": [
    {
     "name": "stdout",
     "output_type": "stream",
     "text": [
      "List: [1, 0, 2, 0, 3, 0, 4, 0, 5, 0, 6, 0, 7, 0, 8, 0, 9, 0, 10]\n",
      "Sorted List: [0, 0, 0, 0, 0, 0, 0, 0, 0, 1, 2, 3, 4, 5, 6, 7, 8, 9, 10]\n",
      "\n",
      "insertionSort:\t True, Compare FC: 45,\t Swap FC: 45\n",
      "bubbleSort:\t True, Compare FC: 171,\t Swap FC: 45\n",
      "selectionSort:\t True, Compare FC: 189,\t Swap FC: 17\n",
      "shellSort:\t True, Compare FC: 112,\t Swap FC: 15\n",
      "quickSort:\t True, Compare FC: 32,\t Swap FC: 23\n",
      "mergeSort:\t True, Compare FC: 27,\t Swap FC: 39\n",
      "heapSort:\t True, Compare FC: 41,\t Swap FC: 43\n"
     ]
    }
   ],
   "source": [
    "testingList = [1, 0, 2, 0, 3, 0, 4, 0, 5, 0, 6, 0, 7, 0, 8, 0, 9, 0, 10]\n",
    "\n",
    "printSortResults(testingList, True)"
   ]
  },
  {
   "cell_type": "markdown",
   "metadata": {},
   "source": [
    "### Pivot is always the lowest"
   ]
  },
  {
   "cell_type": "code",
   "execution_count": 60,
   "metadata": {
    "collapsed": false,
    "scrolled": true
   },
   "outputs": [
    {
     "name": "stdout",
     "output_type": "stream",
     "text": [
      "List: [8, 2, 6, 4, 0, 1, 3, 5, 7, 9]\n",
      "Sorted List: [0, 1, 2, 3, 4, 5, 6, 7, 8, 9]\n",
      "\n",
      "insertionSort:\t True, Compare FC: 18,\t Swap FC: 18\n",
      "bubbleSort:\t True, Compare FC: 45,\t Swap FC: 18\n",
      "selectionSort:\t True, Compare FC: 54,\t Swap FC: 8\n",
      "shellSort:\t True, Compare FC: 43,\t Swap FC: 10\n",
      "quickSort:\t True, Compare FC: 37,\t Swap FC: 8\n",
      "mergeSort:\t True, Compare FC: 13,\t Swap FC: 20\n",
      "heapSort:\t True, Compare FC: 22,\t Swap FC: 26\n"
     ]
    }
   ],
   "source": [
    "testingList = [8, 2, 6, 4, 0, 1, 3, 5, 7, 9]\n",
    "\n",
    "printSortResults(testingList, True)"
   ]
  },
  {
   "cell_type": "markdown",
   "metadata": {},
   "source": [
    "### All are the same values except one"
   ]
  },
  {
   "cell_type": "code",
   "execution_count": 61,
   "metadata": {
    "collapsed": false
   },
   "outputs": [
    {
     "name": "stdout",
     "output_type": "stream",
     "text": [
      "List: [1, 1, 1, 1, 1, 1, 1, 1, 1, 1, 2]\n",
      "Sorted List: [1, 1, 1, 1, 1, 1, 1, 1, 1, 1, 2]\n",
      "\n",
      "insertionSort:\t True, Compare FC: 0,\t Swap FC: 0\n",
      "bubbleSort:\t True, Compare FC: 55,\t Swap FC: 0\n",
      "selectionSort:\t True, Compare FC: 65,\t Swap FC: 0\n",
      "shellSort:\t True, Compare FC: 25,\t Swap FC: 0\n",
      "quickSort:\t True, Compare FC: 4,\t Swap FC: 13\n",
      "mergeSort:\t True, Compare FC: 18,\t Swap FC: 22\n",
      "heapSort:\t True, Compare FC: 8,\t Swap FC: 4\n"
     ]
    }
   ],
   "source": [
    "testingList = [1,1,1,1,1,1,1,1,1,1,2]\n",
    "\n",
    "printSortResults(testingList, True)"
   ]
  },
  {
   "cell_type": "markdown",
   "metadata": {},
   "source": [
    "### Small random data"
   ]
  },
  {
   "cell_type": "code",
   "execution_count": 62,
   "metadata": {
    "collapsed": false,
    "scrolled": true
   },
   "outputs": [
    {
     "name": "stdout",
     "output_type": "stream",
     "text": [
      "List: [7, 13, 3, 18, 16, 2, 9, 5, 12, 1]\n",
      "Sorted List: [1, 2, 3, 5, 7, 9, 12, 13, 16, 18]\n",
      "\n",
      "insertionSort:\t True, Compare FC: 28,\t Swap FC: 28\n",
      "bubbleSort:\t True, Compare FC: 45,\t Swap FC: 28\n",
      "selectionSort:\t True, Compare FC: 54,\t Swap FC: 8\n",
      "shellSort:\t True, Compare FC: 44,\t Swap FC: 16\n",
      "quickSort:\t True, Compare FC: 20,\t Swap FC: 8\n",
      "mergeSort:\t True, Compare FC: 14,\t Swap FC: 20\n",
      "heapSort:\t True, Compare FC: 24,\t Swap FC: 28\n"
     ]
    }
   ],
   "source": [
    "testingList = random.sample(range(0, 10 * 2), 10)\n",
    "\n",
    "printSortResults(testingList, True)"
   ]
  },
  {
   "cell_type": "markdown",
   "metadata": {},
   "source": [
    "### Big random data"
   ]
  },
  {
   "cell_type": "code",
   "execution_count": 63,
   "metadata": {
    "collapsed": false,
    "scrolled": true
   },
   "outputs": [
    {
     "name": "stdout",
     "output_type": "stream",
     "text": [
      "insertionSort:\t True, Compare FC: 24945877,\t Swap FC: 24945877\n",
      "bubbleSort:\t True, Compare FC: 49995000,\t Swap FC: 24945877\n",
      "selectionSort:\t True, Compare FC: 50004999,\t Swap FC: 9991\n",
      "shellSort:\t True, Compare FC: 41689942,\t Swap FC: 150325\n",
      "quickSort:\t True, Compare FC: 105453,\t Swap FC: 31055\n",
      "mergeSort:\t True, Compare FC: 19979,\t Swap FC: 20004\n",
      "heapSort:\t True, Compare FC: 117751,\t Swap FC: 124291\n"
     ]
    }
   ],
   "source": [
    "testingList = random.sample(range(0, 100000 * 2), 10000)\n",
    "\n",
    "printSortResults(testingList, False)"
   ]
  }
 ],
 "metadata": {
  "kernelspec": {
   "display_name": "Python 3",
   "language": "python",
   "name": "python3"
  },
  "language_info": {
   "codemirror_mode": {
    "name": "ipython",
    "version": 3
   },
   "file_extension": ".py",
   "mimetype": "text/x-python",
   "name": "python",
   "nbconvert_exporter": "python",
   "pygments_lexer": "ipython3",
   "version": "3.6.0"
  }
 },
 "nbformat": 4,
 "nbformat_minor": 2
}
