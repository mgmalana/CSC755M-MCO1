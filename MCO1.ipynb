{
 "cells": [
  {
   "cell_type": "markdown",
   "metadata": {},
   "source": [
    "For MCO 1/2, you are required to insert frequency counters to the implemented algorithms for the following :\n",
    "\n",
    "[x] Linear search\n",
    "[x] Binary search\n",
    "[x] Interpolation Search (optional)\n",
    "\n",
    "Insertion Sort\n",
    "Bubble Sort\n",
    "Selection Sort\n",
    "Shellsort (optional)\n",
    "\n",
    "Qucik Sort\n",
    "Merge Sort\n",
    "Heap Sort (optional)\n",
    "\n",
    "/* optional means bonus points\n",
    "\n",
    "Track the frequency counts for increasing sizes of input N = 10, 20, 30, 40, 50, 100, 500, 1,000, 5,000, 10,000, 50,000, 100,000, ... and this is what you use to discuss the growth functions of your algorithms. "
   ]
  },
  {
   "cell_type": "code",
   "execution_count": 29,
   "metadata": {
    "collapsed": false
   },
   "outputs": [],
   "source": [
    "def linearSearch(array, item):\n",
    "    count = 0\n",
    "    for i,v in enumerate(array):\n",
    "        count += 1\n",
    "        if(v == item):\n",
    "            return count\n",
    "    return count\n",
    "\n",
    "def binarySearch(array, item):\n",
    "    start = 0\n",
    "    end = len(array) - 1\n",
    "    count = 0\n",
    "\n",
    "\n",
    "    while start <= end:\n",
    "        count += 1\n",
    "\n",
    "        mid = (end + start) // 2\n",
    "        if item > array[mid]:\n",
    "            start = mid + 1\n",
    "        elif item < array[mid]:\n",
    "            end = mid - 1\n",
    "        else:\n",
    "            return count    \n",
    "    return count\n",
    "\n",
    "def interpolationSearch(array, item):\n",
    "    start = 0\n",
    "    end = len(array) - 1\n",
    "    count = 0\n",
    "  \n",
    "    while start <= end:\n",
    "        count += 1\n",
    "        mid = start + ((item - array[start]) * (end - start) // (array[end] - array[start]))\n",
    "        if item > array[mid]:\n",
    "            start = mid + 1\n",
    "        elif item < array[mid]:\n",
    "            end = mid - 1\n",
    "        else:\n",
    "            return count\n",
    "    \n",
    "    return count "
   ]
  },
  {
   "cell_type": "code",
   "execution_count": 30,
   "metadata": {
    "collapsed": false,
    "scrolled": false
   },
   "outputs": [
    {
     "name": "stdout",
     "output_type": "stream",
     "text": [
      "linear: 1\n",
      "binary: 3\n",
      "interpolation: 1\n",
      "linear: 2\n",
      "binary: 2\n",
      "interpolation: 2\n",
      "linear: 3\n",
      "binary: 3\n",
      "interpolation: 2\n",
      "linear: 4\n",
      "binary: 1\n",
      "interpolation: 2\n",
      "linear: 5\n",
      "binary: 3\n",
      "interpolation: 2\n",
      "linear: 6\n",
      "binary: 2\n",
      "interpolation: 1\n",
      "linear: 7\n",
      "binary: 3\n",
      "interpolation: 1\n",
      "linear: 8\n",
      "binary: 4\n",
      "interpolation: 1\n"
     ]
    }
   ],
   "source": [
    "array = [1,2,5,8,11, 16, 21, 22]\n",
    "\n",
    "def printSearchResult(array, size):\n",
    "    print ('linear: ' + str(linearSearch(array, size)))\n",
    "    print ('binary: ' + str(binarySearch(array, size)))\n",
    "    print ('interpolation: ' + str(interpolationSearch(array, size)))\n",
    "for x in array:\n",
    "    printSearchResult(array, x)"
   ]
  }
 ],
 "metadata": {
  "kernelspec": {
   "display_name": "Python 3",
   "language": "python",
   "name": "python3"
  },
  "language_info": {
   "codemirror_mode": {
    "name": "ipython",
    "version": 3
   },
   "file_extension": ".py",
   "mimetype": "text/x-python",
   "name": "python",
   "nbconvert_exporter": "python",
   "pygments_lexer": "ipython3",
   "version": "3.6.0"
  }
 },
 "nbformat": 4,
 "nbformat_minor": 2
}
