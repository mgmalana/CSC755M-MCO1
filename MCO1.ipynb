{
 "cells": [
  {
   "cell_type": "markdown",
   "metadata": {},
   "source": [
    "## For MCO 1/2, you are required to insert frequency counters to the implemented algorithms for the following :\n",
    "\n",
    "> [x] Linear search\n",
    "\n",
    "> [x] Binary search\n",
    "\n",
    "> [x] Interpolation Search (optional)\n",
    "\n",
    "---\n",
    "> [x] Insertion Sort\n",
    "\n",
    "> [x] Bubble Sort\n",
    "\n",
    "> [ ] Selection Sort\n",
    "\n",
    "> [ ] Shellsort (optional)\n",
    "\n",
    "---\n",
    "> [ ] Qucik Sort\n",
    "\n",
    "> [ ] Merge Sort\n",
    "\n",
    "> [ ] Heap Sort (optional)\n",
    "\n",
    "/* optional means bonus points\n",
    "\n",
    "##### Track the frequency counts for increasing sizes of input N = 10, 20, 30, 40, 50, 100, 500, 1,000, 5,000, 10,000, 50,000, 100,000, ... and this is what you use to discuss the growth functions of your algorithms. "
   ]
  },
  {
   "cell_type": "markdown",
   "metadata": {},
   "source": [
    "# Search Algorithms"
   ]
  },
  {
   "cell_type": "code",
   "execution_count": null,
   "metadata": {
    "collapsed": false
   },
   "outputs": [],
   "source": [
    "def linearSearch(array, item):\n",
    "    count = 0\n",
    "    for i,v in enumerate(array):\n",
    "        count += 1\n",
    "        if(v == item):\n",
    "            return count #if you want to get index, return v\n",
    "    \n",
    "    return count #if you want to get index, return -1\n",
    "\n",
    "def binarySearch(array, item):\n",
    "    start = 0\n",
    "    end = len(array) - 1\n",
    "    count = 0\n",
    "\n",
    "\n",
    "    while start <= end:\n",
    "        count += 1\n",
    "\n",
    "        mid = (end + start) // 2\n",
    "        if item > array[mid]:\n",
    "            start = mid + 1\n",
    "        elif item < array[mid]:\n",
    "            end = mid - 1\n",
    "        else:\n",
    "            return count #if you want to get index, return mid\n",
    "\n",
    "    return count #if you want to get index, return -1\n",
    "\n",
    "def interpolationSearch(array, item):\n",
    "    start = 0\n",
    "    end = len(array) - 1\n",
    "    count = 0\n",
    "  \n",
    "    while start <= end:\n",
    "        count += 1\n",
    "        mid = start + ((item - array[start]) * (end - start) // (array[end] - array[start]))\n",
    "        if item > array[mid]:\n",
    "            start = mid + 1\n",
    "        elif item < array[mid]:\n",
    "            end = mid - 1\n",
    "        else:\n",
    "            return count #if you want to get index, return mid\n",
    "    \n",
    "    return count #if you want to get index, return -1"
   ]
  },
  {
   "cell_type": "code",
   "execution_count": null,
   "metadata": {
    "collapsed": false,
    "scrolled": false
   },
   "outputs": [],
   "source": [
    "array = [1,2,5,8,11, 16, 21, 22]\n",
    "\n",
    "def printSearchResult(array, size):\n",
    "    print ('linear: ' + str(linearSearch(array, size)))\n",
    "    print ('binary: ' + str(binarySearch(array, size)))\n",
    "    print ('interpolation: ' + str(interpolationSearch(array, size)))\n",
    "for x in array:\n",
    "    printSearchResult(array, x)"
   ]
  },
  {
   "cell_type": "markdown",
   "metadata": {},
   "source": [
    "# Sorting Algorithms"
   ]
  },
  {
   "cell_type": "code",
   "execution_count": 35,
   "metadata": {
    "collapsed": false
   },
   "outputs": [],
   "source": [
    "def insertionSort(array):\n",
    "    for i in range(1, len(array)):\n",
    "        currVal = array[i]\n",
    "        pos = i\n",
    "\n",
    "        while pos > 0 and array[pos-1] > currVal:\n",
    "            array[pos] = array[pos - 1] #moves the index before forward to the list\n",
    "            pos = pos - 1\n",
    "\n",
    "        array[pos] = currVal\n",
    "\n",
    "def bubbleSort(array):\n",
    "    for i in range(len(array) - 1 ,0 , -1):\n",
    "        for j in (range(i)):\n",
    "            if(array[j] > array[j + 1]):\n",
    "                swap(array, j, j + 1)\n",
    "                print(array)\n",
    "\n",
    "def                 \n",
    "\n",
    "def swap(array, indexA, indexB):\n",
    "    array[indexA], array[indexB] = array[indexB], array[indexA]"
   ]
  },
  {
   "cell_type": "code",
   "execution_count": 36,
   "metadata": {
    "collapsed": false
   },
   "outputs": [
    {
     "name": "stdout",
     "output_type": "stream",
     "text": [
      "[1, 3, 5, 6, 4, 10, 2, 5]\n",
      "[1, 3, 5, 4, 6, 10, 2, 5]\n",
      "[1, 3, 5, 4, 6, 2, 10, 5]\n",
      "[1, 3, 5, 4, 6, 2, 5, 10]\n",
      "[1, 3, 4, 5, 6, 2, 5, 10]\n",
      "[1, 3, 4, 5, 2, 6, 5, 10]\n",
      "[1, 3, 4, 5, 2, 5, 6, 10]\n",
      "[1, 3, 4, 2, 5, 5, 6, 10]\n",
      "[1, 3, 2, 4, 5, 5, 6, 10]\n",
      "[1, 2, 3, 4, 5, 5, 6, 10]\n",
      "[1, 2, 3, 4, 5, 5, 6, 10]\n"
     ]
    }
   ],
   "source": [
    "array = [1,5, 3, 6, 4, 10, 2, 5]\n",
    "bubbleSort(array)\n",
    "print(array)"
   ]
  },
  {
   "cell_type": "code",
   "execution_count": 1,
   "metadata": {
    "collapsed": false
   },
   "outputs": [
    {
     "name": "stdout",
     "output_type": "stream",
     "text": [
      "0\n",
      "j: 0\n"
     ]
    }
   ],
   "source": []
  }
 ],
 "metadata": {
  "kernelspec": {
   "display_name": "Python 3",
   "language": "python",
   "name": "python3"
  },
  "language_info": {
   "codemirror_mode": {
    "name": "ipython",
    "version": 3
   },
   "file_extension": ".py",
   "mimetype": "text/x-python",
   "name": "python",
   "nbconvert_exporter": "python",
   "pygments_lexer": "ipython3",
   "version": "3.6.0"
  }
 },
 "nbformat": 4,
 "nbformat_minor": 2
}
